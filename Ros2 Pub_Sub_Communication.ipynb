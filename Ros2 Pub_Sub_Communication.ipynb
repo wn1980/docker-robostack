{
 "cells": [
  {
   "cell_type": "code",
   "execution_count": null,
   "metadata": {},
   "outputs": [],
   "source": [
    "import sys\n",
    "sys.path.append('/opt/ros/melodic/lib/python2.7/dist-packages/')"
   ]
  },
  {
   "cell_type": "code",
   "execution_count": 1,
   "metadata": {},
   "outputs": [
    {
     "name": "stdout",
     "output_type": "stream",
     "text": [
      "The actionlib package is not found in your $PYTHONPATH. Action clients are not going to work.\n",
      "Do you need to activate your ROS environment?\n",
      "The rospy package is not found in your $PYTHONPATH. Subscribe and publish are not going to work.\n",
      "Do you need to activate your ROS environment?\n",
      "The actionlib package is not found in your $PYTHONPATH. Action clients are not going to work.\n",
      "Do you need to activate your ROS environment?\n"
     ]
    }
   ],
   "source": [
    "## Relative pathing to the Jupyros module (jupyter-ros/jupyros), due to difficulty with with development install\n",
    "## Remove at PR is Dev Install successful \n",
    "import sys\n",
    "sys.path.append(\"./../\")\n",
    "##\n",
    "import rclpy as rp\n",
    "import jupyros.ros2 as jr2\n",
    "from geometry_msgs.msg import Pose, Point\n",
    "from sensor_msgs.msg import Image"
   ]
  },
  {
   "cell_type": "code",
   "execution_count": 2,
   "metadata": {},
   "outputs": [
    {
     "ename": "RCLError",
     "evalue": "Failed to initialize init options: failed to get symbol 'rmw_init_options_init' due to Environment variable 'AMENT_PREFIX_PATH' is not set or empty, at /opt/conda/build_artifacts/ros-humble-rmw-implementation_1659331744961/work/ros-humble-rmw-implementation/src/work/src/functions.cpp:171, at /opt/conda/build_artifacts/ros-humble-rcl_1665697916427/work/ros-humble-rcl/src/work/src/rcl/init_options.c:75",
     "output_type": "error",
     "traceback": [
      "\u001b[0;31m---------------------------------------------------------------------------\u001b[0m",
      "\u001b[0;31mRCLError\u001b[0m                                  Traceback (most recent call last)",
      "Cell \u001b[0;32mIn [2], line 2\u001b[0m\n\u001b[1;32m      1\u001b[0m \u001b[38;5;66;03m# Initialize ROS communications for a given context\u001b[39;00m\n\u001b[0;32m----> 2\u001b[0m \u001b[43mrp\u001b[49m\u001b[38;5;241;43m.\u001b[39;49m\u001b[43minit\u001b[49m\u001b[43m(\u001b[49m\u001b[43m)\u001b[49m\n",
      "File \u001b[0;32m~/conda/envs/ros_humble/lib/python3.9/site-packages/rclpy/__init__.py:89\u001b[0m, in \u001b[0;36minit\u001b[0;34m(args, context, domain_id, signal_handler_options)\u001b[0m\n\u001b[1;32m     87\u001b[0m         signal_handler_options \u001b[38;5;241m=\u001b[39m SignalHandlerOptions\u001b[38;5;241m.\u001b[39mNO\n\u001b[1;32m     88\u001b[0m install_signal_handlers(signal_handler_options)\n\u001b[0;32m---> 89\u001b[0m \u001b[38;5;28;01mreturn\u001b[39;00m \u001b[43mcontext\u001b[49m\u001b[38;5;241;43m.\u001b[39;49m\u001b[43minit\u001b[49m\u001b[43m(\u001b[49m\u001b[43margs\u001b[49m\u001b[43m,\u001b[49m\u001b[43m \u001b[49m\u001b[43mdomain_id\u001b[49m\u001b[38;5;241;43m=\u001b[39;49m\u001b[43mdomain_id\u001b[49m\u001b[43m)\u001b[49m\n",
      "File \u001b[0;32m~/conda/envs/ros_humble/lib/python3.9/site-packages/rclpy/context.py:72\u001b[0m, in \u001b[0;36mContext.init\u001b[0;34m(self, args, initialize_logging, domain_id)\u001b[0m\n\u001b[1;32m     69\u001b[0m \u001b[38;5;28;01mif\u001b[39;00m \u001b[38;5;28mself\u001b[39m\u001b[38;5;241m.\u001b[39m__context \u001b[38;5;129;01mis\u001b[39;00m \u001b[38;5;129;01mnot\u001b[39;00m \u001b[38;5;28;01mNone\u001b[39;00m:\n\u001b[1;32m     70\u001b[0m     \u001b[38;5;28;01mraise\u001b[39;00m \u001b[38;5;167;01mRuntimeError\u001b[39;00m(\u001b[38;5;124m'\u001b[39m\u001b[38;5;124mContext.init() must only be called once\u001b[39m\u001b[38;5;124m'\u001b[39m)\n\u001b[0;32m---> 72\u001b[0m \u001b[38;5;28mself\u001b[39m\u001b[38;5;241m.\u001b[39m__context \u001b[38;5;241m=\u001b[39m \u001b[43m_rclpy\u001b[49m\u001b[38;5;241;43m.\u001b[39;49m\u001b[43mContext\u001b[49m\u001b[43m(\u001b[49m\n\u001b[1;32m     73\u001b[0m \u001b[43m    \u001b[49m\u001b[43margs\u001b[49m\u001b[43m \u001b[49m\u001b[38;5;28;43;01mif\u001b[39;49;00m\u001b[43m \u001b[49m\u001b[43margs\u001b[49m\u001b[43m \u001b[49m\u001b[38;5;129;43;01mis\u001b[39;49;00m\u001b[43m \u001b[49m\u001b[38;5;129;43;01mnot\u001b[39;49;00m\u001b[43m \u001b[49m\u001b[38;5;28;43;01mNone\u001b[39;49;00m\u001b[43m \u001b[49m\u001b[38;5;28;43;01melse\u001b[39;49;00m\u001b[43m \u001b[49m\u001b[43msys\u001b[49m\u001b[38;5;241;43m.\u001b[39;49m\u001b[43margv\u001b[49m\u001b[43m,\u001b[49m\n\u001b[1;32m     74\u001b[0m \u001b[43m    \u001b[49m\u001b[43mdomain_id\u001b[49m\u001b[43m \u001b[49m\u001b[38;5;28;43;01mif\u001b[39;49;00m\u001b[43m \u001b[49m\u001b[43mdomain_id\u001b[49m\u001b[43m \u001b[49m\u001b[38;5;129;43;01mis\u001b[39;49;00m\u001b[43m \u001b[49m\u001b[38;5;129;43;01mnot\u001b[39;49;00m\u001b[43m \u001b[49m\u001b[38;5;28;43;01mNone\u001b[39;49;00m\u001b[43m \u001b[49m\u001b[38;5;28;43;01melse\u001b[39;49;00m\u001b[43m \u001b[49m\u001b[43m_rclpy\u001b[49m\u001b[38;5;241;43m.\u001b[39;49m\u001b[43mRCL_DEFAULT_DOMAIN_ID\u001b[49m\u001b[43m)\u001b[49m\n\u001b[1;32m     75\u001b[0m \u001b[38;5;28;01mif\u001b[39;00m initialize_logging \u001b[38;5;129;01mand\u001b[39;00m \u001b[38;5;129;01mnot\u001b[39;00m \u001b[38;5;28mself\u001b[39m\u001b[38;5;241m.\u001b[39m_logging_initialized:\n\u001b[1;32m     76\u001b[0m     \u001b[38;5;28;01mwith\u001b[39;00m g_logging_configure_lock:\n",
      "\u001b[0;31mRCLError\u001b[0m: Failed to initialize init options: failed to get symbol 'rmw_init_options_init' due to Environment variable 'AMENT_PREFIX_PATH' is not set or empty, at /opt/conda/build_artifacts/ros-humble-rmw-implementation_1659331744961/work/ros-humble-rmw-implementation/src/work/src/functions.cpp:171, at /opt/conda/build_artifacts/ros-humble-rcl_1665697916427/work/ros-humble-rcl/src/work/src/rcl/init_options.c:75"
     ]
    }
   ],
   "source": [
    "# Initialize ROS communications for a given context\n",
    "rp.init()"
   ]
  },
  {
   "cell_type": "code",
   "execution_count": 3,
   "metadata": {},
   "outputs": [],
   "source": [
    "test_node = rp.create_node(\"test_node\")"
   ]
  },
  {
   "cell_type": "code",
   "execution_count": 4,
   "metadata": {},
   "outputs": [],
   "source": [
    "# def cb(msg):\n",
    "#     lx = msg.linear.x\n",
    "#     ly = msg.linear.y \n",
    "#     lz = msg.linear.z\n",
    "#     ax = msg.angular.x \n",
    "#     ay = msg.angular.y \n",
    "#     az = msg.angular.z \n",
    "#     return lx, ly, lz, ax, ay, az\n",
    "\n",
    "def cb(msg):\n",
    "    print(msg)\n",
    "    print(\"This is only the x\", msg.position.x)\n"
   ]
  },
  {
   "cell_type": "code",
   "execution_count": 7,
   "metadata": {
    "scrolled": true
   },
   "outputs": [
    {
     "data": {
      "application/vnd.jupyter.widget-view+json": {
       "model_id": "534c10313702477ea44c49e430481dea",
       "version_major": 2,
       "version_minor": 0
      },
      "text/plain": [
       "VBox(children=(HBox(children=(Button(description='Start', style=ButtonStyle()), Button(description='Stop', sty…"
      ]
     },
     "metadata": {},
     "output_type": "display_data"
    }
   ],
   "source": [
    "#Method 1 of subscribing and printing data\n",
    "sub = jr2.Subscriber(test_node, Pose, '/data', cb, print_incoming_msg=True)\n",
    "sub.display()"
   ]
  },
  {
   "cell_type": "code",
   "execution_count": 8,
   "metadata": {},
   "outputs": [
    {
     "data": {
      "application/vnd.jupyter.widget-view+json": {
       "model_id": "744726dbc1e64f8c8a2c69ec39ad4927",
       "version_major": 2,
       "version_minor": 0
      },
      "text/plain": [
       "VBox(children=(HBox(children=(Button(description='Start', style=ButtonStyle()), Button(description='Stop', sty…"
      ]
     },
     "metadata": {},
     "output_type": "display_data"
    }
   ],
   "source": [
    "#Method 2 of subscribing and printing data\n",
    "jr2.Subscriber(test_node, Pose, '/data', cb, print_incoming_msg=True).display()"
   ]
  },
  {
   "cell_type": "code",
   "execution_count": 9,
   "metadata": {},
   "outputs": [
    {
     "data": {
      "application/vnd.jupyter.widget-view+json": {
       "model_id": "ef44af737162481f822d1f15fbd675cf",
       "version_major": 2,
       "version_minor": 0
      },
      "text/plain": [
       "VBox(children=(Label(value='position'), HBox(children=(Label(value='x', layout=Layout(width='100px')), FloatTe…"
      ]
     },
     "metadata": {},
     "output_type": "display_data"
    }
   ],
   "source": [
    "#Method 1 of publishing to node\n",
    "pub = jr2.Publisher(test_node, Pose, '/data')\n",
    "pub.display()"
   ]
  },
  {
   "cell_type": "code",
   "execution_count": null,
   "metadata": {},
   "outputs": [],
   "source": []
  }
 ],
 "metadata": {
  "kernelspec": {
   "display_name": "Python 3 (ipykernel)",
   "language": "python",
   "name": "python3"
  },
  "language_info": {
   "codemirror_mode": {
    "name": "ipython",
    "version": 3
   },
   "file_extension": ".py",
   "mimetype": "text/x-python",
   "name": "python",
   "nbconvert_exporter": "python",
   "pygments_lexer": "ipython3",
   "version": "3.9.13"
  }
 },
 "nbformat": 4,
 "nbformat_minor": 4
}
